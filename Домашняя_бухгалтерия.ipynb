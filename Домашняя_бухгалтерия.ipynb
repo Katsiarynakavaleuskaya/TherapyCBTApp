{
  "nbformat": 4,
  "nbformat_minor": 0,
  "metadata": {
    "colab": {
      "provenance": [],
      "mount_file_id": "1SDku1cfOcKxTLLzdXs4MlrUYiqM6WqTI",
      "authorship_tag": "ABX9TyOh3jlATyoQux7dz06p+nCu",
      "include_colab_link": true
    },
    "kernelspec": {
      "name": "python3",
      "display_name": "Python 3"
    },
    "language_info": {
      "name": "python"
    }
  },
  "cells": [
    {
      "cell_type": "markdown",
      "metadata": {
        "id": "view-in-github",
        "colab_type": "text"
      },
      "source": [
        "<a href=\"https://colab.research.google.com/github/Katsiarynakavaleuskaya/TherapyCBTApp/blob/main/%D0%94%D0%BE%D0%BC%D0%B0%D1%88%D0%BD%D1%8F%D1%8F_%D0%B1%D1%83%D1%85%D0%B3%D0%B0%D0%BB%D1%82%D0%B5%D1%80%D0%B8%D1%8F.ipynb\" target=\"_parent\"><img src=\"https://colab.research.google.com/assets/colab-badge.svg\" alt=\"Open In Colab\"/></a>"
      ]
    },
    {
      "cell_type": "code",
      "execution_count": 9,
      "metadata": {
        "id": "DJOqUOfokPYO"
      },
      "outputs": [],
      "source": [
        "import pandas as pd"
      ]
    },
    {
      "cell_type": "code",
      "source": [
        "df = pd.read_csv('/content/Бухгалтерия.csv')\n",
        ""
      ],
      "metadata": {
        "id": "88u2t-Ckk9yq"
      },
      "execution_count": 10,
      "outputs": []
    },
    {
      "cell_type": "code",
      "source": [
        "df=df.dropna(how='all')"
      ],
      "metadata": {
        "id": "2hJ3hGZeZChg"
      },
      "execution_count": 11,
      "outputs": []
    },
    {
      "cell_type": "code",
      "source": [
        "df = pd.read_csv('/content/Бухгалтерия.csv', skip_blank_lines=True)"
      ],
      "metadata": {
        "id": "zPi3BQvYZbDe"
      },
      "execution_count": 13,
      "outputs": []
    },
    {
      "cell_type": "code",
      "source": [
        "min_value = df['сумма'].min()\n",
        "mean_value = df['сумма'].mean()\n",
        "max_value = df['сумма'].max()\n",
        "print('Минимальная сумма трат:', min_value)\n",
        "print('Средняя сумма трат:', mean_value)\n",
        "print('Максимальная сумма трат:', max_value)"
      ],
      "metadata": {
        "colab": {
          "base_uri": "https://localhost:8080/"
        },
        "id": "zK4eQwxGboJr",
        "outputId": "9f8355b2-91d8-4294-aac8-84b57ddf332c"
      },
      "execution_count": 16,
      "outputs": [
        {
          "output_type": "stream",
          "name": "stdout",
          "text": [
            "Минимальная сумма трат: 15.0\n",
            "Средняя сумма трат: 172.14285714285714\n",
            "Максимальная сумма трат: 800.0\n"
          ]
        }
      ]
    },
    {
      "cell_type": "code",
      "source": [
        "print(df.columns)"
      ],
      "metadata": {
        "colab": {
          "base_uri": "https://localhost:8080/"
        },
        "id": "cReJkxDkedHK",
        "outputId": "b0f5679b-7e5c-46f3-9ca2-dc0668c4cd84"
      },
      "execution_count": 19,
      "outputs": [
        {
          "output_type": "stream",
          "name": "stdout",
          "text": [
            "Index(['время', 'месяц операции', 'название операции', 'сумма', 'категория ',\n",
            "       'Регулярная трата', 'Unnamed: 6', 'Unnamed: 7'],\n",
            "      dtype='object')\n"
          ]
        }
      ]
    },
    {
      "cell_type": "code",
      "source": [
        "category_sums = df.groupby('категория ')['сумма'].sum()\n",
        "print(category_sums)"
      ],
      "metadata": {
        "colab": {
          "base_uri": "https://localhost:8080/"
        },
        "id": "1fdKqX-ue1fC",
        "outputId": "38fef4e6-c64e-46c8-dd57-593ecd3b94b6"
      },
      "execution_count": 20,
      "outputs": [
        {
          "output_type": "stream",
          "name": "stdout",
          "text": [
            "категория \n",
            "интернет          365.0\n",
            "квартплата       2250.0\n",
            "книги            1210.0\n",
            "кофейня           430.0\n",
            "кредит           1650.0\n",
            "парикмахер       2500.0\n",
            "телефон           300.0\n",
            "фитнесс           525.0\n",
            "электричество     410.0\n",
            "Name: сумма, dtype: float64\n"
          ]
        }
      ]
    }
  ]
}